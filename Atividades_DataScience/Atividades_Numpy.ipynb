{
 "cells": [
  {
   "cell_type": "markdown",
   "metadata": {
    "id": "f2YF2M_pcLDO"
   },
   "source": [
    "## Atividades em NuPy\n",
    "\n",
    "Observação: As atividades mencionadas foram encontradas no repositório do GitHub em https://github.com/infoslack/ml-book-exemplos. Essas atividades são baseadas no livro 'Entendendo Machine Learning com Scikit-Learn e TensorFlow na prática'. Você pode acessar o conteúdo do livro no seguinte link: https://infoslack.pro/ml-book/contents/pandas-exercicios.html. Créditos ao autor e ao repositório mencionado."
   ]
  },
  {
   "cell_type": "code",
   "execution_count": 1,
   "metadata": {
    "id": "T9i_C7NRcHg0"
   },
   "outputs": [],
   "source": [
    "# Importe o numpy, utilize a abreviação 'np'"
   ]
  },
  {
   "cell_type": "code",
   "execution_count": 1,
   "metadata": {},
   "outputs": [],
   "source": [
    "import numpy as np"
   ]
  },
  {
   "cell_type": "code",
   "execution_count": 2,
   "metadata": {
    "id": "G7dHzE8PcnO3"
   },
   "outputs": [],
   "source": [
    "# Utilizando np.array() crie:\n",
    "# 1 array unidimensional \"vetor\"\n",
    "# 1 array de duas dimensões \"matrix\"\n",
    "# 1 array de três dimensões"
   ]
  },
  {
   "cell_type": "code",
   "execution_count": 5,
   "metadata": {},
   "outputs": [],
   "source": [
    "# 1 array unidimensional \"vetor\"\n",
    "arr1 = np.array([1,2,3,4])"
   ]
  },
  {
   "cell_type": "code",
   "execution_count": 6,
   "metadata": {},
   "outputs": [
    {
     "name": "stdout",
     "output_type": "stream",
     "text": [
      "[1 2 3 4]\n"
     ]
    }
   ],
   "source": [
    "print(arr1)"
   ]
  },
  {
   "cell_type": "code",
   "execution_count": 94,
   "metadata": {},
   "outputs": [],
   "source": [
    "# 1 array de duas dimensões \"matrix\"\n",
    "arr2 = np.array(\n",
    "[\n",
    "    [1,2],\n",
    "    [3,4],\n",
    "    [5,6]\n",
    "])"
   ]
  },
  {
   "cell_type": "code",
   "execution_count": 95,
   "metadata": {},
   "outputs": [
    {
     "name": "stdout",
     "output_type": "stream",
     "text": [
      "[[1 2]\n",
      " [3 4]\n",
      " [5 6]]\n"
     ]
    }
   ],
   "source": [
    "print(arr2)"
   ]
  },
  {
   "cell_type": "code",
   "execution_count": 18,
   "metadata": {},
   "outputs": [],
   "source": [
    "# 1 array de três dimensões\n",
    "arr3 = np.array(\n",
    "[\n",
    "    [[1,2,3,4,5]],\n",
    "    [[6,7,8,9,10]],\n",
    "    [[11,12,13,14,15]]\n",
    "])"
   ]
  },
  {
   "cell_type": "code",
   "execution_count": 19,
   "metadata": {},
   "outputs": [
    {
     "name": "stdout",
     "output_type": "stream",
     "text": [
      "[[[ 1  2  3  4  5]]\n",
      "\n",
      " [[ 6  7  8  9 10]]\n",
      "\n",
      " [[11 12 13 14 15]]]\n"
     ]
    }
   ],
   "source": [
    "print(arr3)"
   ]
  },
  {
   "cell_type": "code",
   "execution_count": 3,
   "metadata": {
    "id": "1fnZR3yMc6NG"
   },
   "outputs": [],
   "source": [
    "# Liste os atributos de todos os arrays criados anteriormente\n",
    "# número de dimensões, tipo de dado, tamanho"
   ]
  },
  {
   "cell_type": "code",
   "execution_count": 33,
   "metadata": {},
   "outputs": [
    {
     "name": "stdout",
     "output_type": "stream",
     "text": [
      "1\n",
      "<class 'numpy.ndarray'>\n",
      "4\n"
     ]
    }
   ],
   "source": [
    "#arr1\n",
    "print(arr1.ndim)\n",
    "print(type(arr1))\n",
    "print(arr1.size)"
   ]
  },
  {
   "cell_type": "code",
   "execution_count": 96,
   "metadata": {},
   "outputs": [
    {
     "name": "stdout",
     "output_type": "stream",
     "text": [
      "2\n",
      "<class 'numpy.ndarray'>\n",
      "6\n"
     ]
    }
   ],
   "source": [
    "#arr2\n",
    "print(arr2.ndim)\n",
    "print(type(arr2))\n",
    "print(arr2.size)"
   ]
  },
  {
   "cell_type": "code",
   "execution_count": 35,
   "metadata": {},
   "outputs": [
    {
     "name": "stdout",
     "output_type": "stream",
     "text": [
      "3\n",
      "<class 'numpy.ndarray'>\n",
      "15\n"
     ]
    }
   ],
   "source": [
    "#arr3\n",
    "print(arr3.ndim)\n",
    "print(type(arr3))\n",
    "print(arr3.size)"
   ]
  },
  {
   "cell_type": "code",
   "execution_count": 38,
   "metadata": {
    "id": "5idGTgc8dGCr"
   },
   "outputs": [],
   "source": [
    "# Crie um array de números 1 de shape (10, 2)\n",
    "arr4 = np.ones((10,2))"
   ]
  },
  {
   "cell_type": "code",
   "execution_count": 39,
   "metadata": {},
   "outputs": [
    {
     "name": "stdout",
     "output_type": "stream",
     "text": [
      "[[1. 1.]\n",
      " [1. 1.]\n",
      " [1. 1.]\n",
      " [1. 1.]\n",
      " [1. 1.]\n",
      " [1. 1.]\n",
      " [1. 1.]\n",
      " [1. 1.]\n",
      " [1. 1.]\n",
      " [1. 1.]]\n"
     ]
    }
   ],
   "source": [
    "print(arr4)"
   ]
  },
  {
   "cell_type": "code",
   "execution_count": 40,
   "metadata": {
    "id": "xF9j1vXfdQjg"
   },
   "outputs": [],
   "source": [
    "# Crie um array de zeros de shape (5, 4, 3)\n",
    "arr5 = np.zeros((5,4,3))"
   ]
  },
  {
   "cell_type": "code",
   "execution_count": 41,
   "metadata": {},
   "outputs": [
    {
     "name": "stdout",
     "output_type": "stream",
     "text": [
      "[[[0. 0. 0.]\n",
      "  [0. 0. 0.]\n",
      "  [0. 0. 0.]\n",
      "  [0. 0. 0.]]\n",
      "\n",
      " [[0. 0. 0.]\n",
      "  [0. 0. 0.]\n",
      "  [0. 0. 0.]\n",
      "  [0. 0. 0.]]\n",
      "\n",
      " [[0. 0. 0.]\n",
      "  [0. 0. 0.]\n",
      "  [0. 0. 0.]\n",
      "  [0. 0. 0.]]\n",
      "\n",
      " [[0. 0. 0.]\n",
      "  [0. 0. 0.]\n",
      "  [0. 0. 0.]\n",
      "  [0. 0. 0.]]\n",
      "\n",
      " [[0. 0. 0.]\n",
      "  [0. 0. 0.]\n",
      "  [0. 0. 0.]\n",
      "  [0. 0. 0.]]]\n"
     ]
    }
   ],
   "source": [
    "print(arr5)"
   ]
  },
  {
   "cell_type": "code",
   "execution_count": 42,
   "metadata": {
    "id": "MgvKExKRdV-a"
   },
   "outputs": [],
   "source": [
    "# Crie um array com um range entre 0 e 100 e com step 3\n",
    "arr6 = np.arange(0,100,3)"
   ]
  },
  {
   "cell_type": "code",
   "execution_count": 43,
   "metadata": {},
   "outputs": [
    {
     "name": "stdout",
     "output_type": "stream",
     "text": [
      "[ 0  3  6  9 12 15 18 21 24 27 30 33 36 39 42 45 48 51 54 57 60 63 66 69\n",
      " 72 75 78 81 84 87 90 93 96 99]\n"
     ]
    }
   ],
   "source": [
    "print(arr6)"
   ]
  },
  {
   "cell_type": "code",
   "execution_count": 44,
   "metadata": {
    "id": "K44xtwvVdhw_"
   },
   "outputs": [],
   "source": [
    "# Crie um array random (com elementos aleatórios) entre 0 e 10 de tamanho (7, 2)\n",
    "arr7 = np.random.randint(10, size=(7,2))"
   ]
  },
  {
   "cell_type": "code",
   "execution_count": 45,
   "metadata": {},
   "outputs": [
    {
     "name": "stdout",
     "output_type": "stream",
     "text": [
      "[[9 4]\n",
      " [5 0]\n",
      " [4 1]\n",
      " [6 6]\n",
      " [2 4]\n",
      " [6 7]\n",
      " [8 1]]\n"
     ]
    }
   ],
   "source": [
    "print(arr7)"
   ]
  },
  {
   "cell_type": "code",
   "execution_count": 47,
   "metadata": {
    "id": "RzyTNppBdzDB"
   },
   "outputs": [],
   "source": [
    "# Crie um array random float com elementos entre 0 e 1 com shape (5, 3)\n",
    "arr8 =  np.random.random(size=(5,3))"
   ]
  },
  {
   "cell_type": "code",
   "execution_count": 48,
   "metadata": {},
   "outputs": [
    {
     "name": "stdout",
     "output_type": "stream",
     "text": [
      "[[0.46368465 0.83337863 0.41502034]\n",
      " [0.09044228 0.17602942 0.01226922]\n",
      " [0.55046785 0.36076604 0.93438462]\n",
      " [0.16196953 0.03977353 0.24237069]\n",
      " [0.77758644 0.12392575 0.18956501]]\n"
     ]
    }
   ],
   "source": [
    "print(arr8)"
   ]
  },
  {
   "cell_type": "code",
   "execution_count": 49,
   "metadata": {
    "id": "9S5iob2zd9Ha"
   },
   "outputs": [],
   "source": [
    "# Utilize  o seed com valor 42 e crie um array de números aleatórios entre 0 e 10 de tamanho (5, 3)\n",
    "np.random.seed(42)\n",
    "arr9 = np.random.randint(10, size=(5,3))\n"
   ]
  },
  {
   "cell_type": "code",
   "execution_count": 50,
   "metadata": {
    "scrolled": true
   },
   "outputs": [
    {
     "name": "stdout",
     "output_type": "stream",
     "text": [
      "[[6 3 7]\n",
      " [4 6 9]\n",
      " [2 6 7]\n",
      " [4 3 7]\n",
      " [7 2 5]]\n"
     ]
    }
   ],
   "source": [
    "print(arr9)"
   ]
  },
  {
   "cell_type": "code",
   "execution_count": 55,
   "metadata": {
    "id": "tiYVj45FePWD"
   },
   "outputs": [
    {
     "data": {
      "text/plain": [
       "6"
      ]
     },
     "execution_count": 55,
     "metadata": {},
     "output_type": "execute_result"
    }
   ],
   "source": [
    "# Selecione o primeiro elemento do último array que você criou\n",
    "arr9[0,0]"
   ]
  },
  {
   "cell_type": "code",
   "execution_count": 56,
   "metadata": {
    "id": "uWgtLoDueil4"
   },
   "outputs": [
    {
     "data": {
      "text/plain": [
       "array([6, 3, 7])"
      ]
     },
     "execution_count": 56,
     "metadata": {},
     "output_type": "execute_result"
    }
   ],
   "source": [
    "# Selecione a primeira linha do último array criado\n",
    "arr9[0]"
   ]
  },
  {
   "cell_type": "code",
   "execution_count": 61,
   "metadata": {
    "id": "dyRNHEaceoDT"
   },
   "outputs": [
    {
     "data": {
      "text/plain": [
       "array([7, 2, 5])"
      ]
     },
     "execution_count": 61,
     "metadata": {},
     "output_type": "execute_result"
    }
   ],
   "source": [
    "# Selecione do primeiro até o quarto elemento da primeira linha do último array criado\n",
    "arr9[-1,0:5]"
   ]
  },
  {
   "cell_type": "code",
   "execution_count": 63,
   "metadata": {
    "id": "lSlQzj1OevrY"
   },
   "outputs": [],
   "source": [
    "# Crie um novo array usando 'ones' com shape (3, 5)\n",
    "arr10 = np.ones((3,5))"
   ]
  },
  {
   "cell_type": "code",
   "execution_count": 64,
   "metadata": {},
   "outputs": [
    {
     "name": "stdout",
     "output_type": "stream",
     "text": [
      "[[1. 1. 1. 1. 1.]\n",
      " [1. 1. 1. 1. 1.]\n",
      " [1. 1. 1. 1. 1.]]\n"
     ]
    }
   ],
   "source": [
    "print(arr10)"
   ]
  },
  {
   "cell_type": "code",
   "execution_count": 65,
   "metadata": {},
   "outputs": [
    {
     "data": {
      "text/plain": [
       "(3, 5)"
      ]
     },
     "execution_count": 65,
     "metadata": {},
     "output_type": "execute_result"
    }
   ],
   "source": [
    "arr10.shape"
   ]
  },
  {
   "cell_type": "code",
   "execution_count": 68,
   "metadata": {
    "id": "l2lpKJf3UEgM"
   },
   "outputs": [],
   "source": [
    "# Subtraia o novo array de outro com dados aleatórios e armazene o resultado em uma variável chamada 'matrix'\n",
    "arr11 = arr3-arr10"
   ]
  },
  {
   "cell_type": "code",
   "execution_count": 69,
   "metadata": {},
   "outputs": [
    {
     "name": "stdout",
     "output_type": "stream",
     "text": [
      "[[[ 0.  1.  2.  3.  4.]\n",
      "  [ 0.  1.  2.  3.  4.]\n",
      "  [ 0.  1.  2.  3.  4.]]\n",
      "\n",
      " [[ 5.  6.  7.  8.  9.]\n",
      "  [ 5.  6.  7.  8.  9.]\n",
      "  [ 5.  6.  7.  8.  9.]]\n",
      "\n",
      " [[10. 11. 12. 13. 14.]\n",
      "  [10. 11. 12. 13. 14.]\n",
      "  [10. 11. 12. 13. 14.]]]\n"
     ]
    }
   ],
   "source": [
    "print(arr11)"
   ]
  },
  {
   "cell_type": "code",
   "execution_count": 71,
   "metadata": {
    "id": "pWZJmO-uUT6b"
   },
   "outputs": [
    {
     "name": "stdout",
     "output_type": "stream",
     "text": [
      "7.0\n"
     ]
    }
   ],
   "source": [
    "# Encontre a média usando 'np.mean()' do valores no novo array chamado 'matrix'\n",
    "print(arr11.mean())"
   ]
  },
  {
   "cell_type": "code",
   "execution_count": 72,
   "metadata": {},
   "outputs": [
    {
     "data": {
      "text/plain": [
       "7.0"
      ]
     },
     "execution_count": 72,
     "metadata": {},
     "output_type": "execute_result"
    }
   ],
   "source": [
    "np.mean(arr11)"
   ]
  },
  {
   "cell_type": "code",
   "execution_count": 106,
   "metadata": {
    "id": "5kjMnGZzUj4a"
   },
   "outputs": [],
   "source": [
    "# Faça a transposição da 'matrix', usando o método '.T'\n",
    "\n",
    "arr11_transpose = arr11.transpose()"
   ]
  },
  {
   "cell_type": "code",
   "execution_count": 107,
   "metadata": {},
   "outputs": [
    {
     "name": "stdout",
     "output_type": "stream",
     "text": [
      "[[[ 0.  5. 10.]\n",
      "  [ 0.  5. 10.]\n",
      "  [ 0.  5. 10.]]\n",
      "\n",
      " [[ 1.  6. 11.]\n",
      "  [ 1.  6. 11.]\n",
      "  [ 1.  6. 11.]]\n",
      "\n",
      " [[ 2.  7. 12.]\n",
      "  [ 2.  7. 12.]\n",
      "  [ 2.  7. 12.]]\n",
      "\n",
      " [[ 3.  8. 13.]\n",
      "  [ 3.  8. 13.]\n",
      "  [ 3.  8. 13.]]\n",
      "\n",
      " [[ 4.  9. 14.]\n",
      "  [ 4.  9. 14.]\n",
      "  [ 4.  9. 14.]]]\n"
     ]
    }
   ],
   "source": [
    "print(arr11_transpose)"
   ]
  },
  {
   "cell_type": "code",
   "execution_count": null,
   "metadata": {},
   "outputs": [],
   "source": []
  }
 ],
 "metadata": {
  "colab": {
   "name": "numpy-exercicios",
   "provenance": []
  },
  "kernelspec": {
   "display_name": "Python 3 (ipykernel)",
   "language": "python",
   "name": "python3"
  },
  "language_info": {
   "codemirror_mode": {
    "name": "ipython",
    "version": 3
   },
   "file_extension": ".py",
   "mimetype": "text/x-python",
   "name": "python",
   "nbconvert_exporter": "python",
   "pygments_lexer": "ipython3",
   "version": "3.9.13"
  }
 },
 "nbformat": 4,
 "nbformat_minor": 1
}
