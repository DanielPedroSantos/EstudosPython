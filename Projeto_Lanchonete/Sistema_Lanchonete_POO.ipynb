{
 "cells": [
  {
   "cell_type": "code",
   "execution_count": 1,
   "id": "70a5406b",
   "metadata": {},
   "outputs": [],
   "source": [
    "# Classe produto\n",
    "\n",
    "class Produto:\n",
    "    def __init__(self,nome_produto,preco,data_validade):\n",
    "        self.nome_produto = nome_produto\n",
    "        self.preco = preco\n",
    "        self.data_validade = data_validade       "
   ]
  },
  {
   "cell_type": "code",
   "execution_count": 2,
   "id": "c8307a55",
   "metadata": {},
   "outputs": [],
   "source": [
    "# Classe Pizza\n",
    "\n",
    "class Pizza(Produto):\n",
    "    def __init__(self,nome_produto, preco, data_validade, peso, recheio):\n",
    "        super().__init__(nome_produto,preco,data_validade)\n",
    "        self.peso = peso\n",
    "        self.recheio = recheio\n",
    "    "
   ]
  },
  {
   "cell_type": "code",
   "execution_count": 3,
   "id": "d251e8d2",
   "metadata": {},
   "outputs": [],
   "source": [
    "# Classe Lanche\n",
    "\n",
    "class Lanche(Produto):\n",
    "    def __init__(self,nome_produto, preco, data_validade, peso, recheio):\n",
    "        super().__init__(nome_produto, preco,data_validade)\n",
    "        self.peso = peso\n",
    "        self.recheio = recheio\n",
    "    "
   ]
  },
  {
   "cell_type": "code",
   "execution_count": 4,
   "id": "a72639e5",
   "metadata": {},
   "outputs": [],
   "source": [
    "# Classe Salgadinho\n",
    "\n",
    "class Salgadinho(Produto):\n",
    "    def __init__(self,nome_produto,preco, data_validade,peso, tipo, massa, recheio):\n",
    "        super().__init__(nome_produto,preco,data_validade)\n",
    "        self.peso = peso\n",
    "        self.tipo = tipo\n",
    "        self.massa = massa\n",
    "        self.recheio = recheio\n",
    "        "
   ]
  },
  {
   "cell_type": "code",
   "execution_count": 5,
   "id": "0e84da45",
   "metadata": {},
   "outputs": [],
   "source": [
    "# Classe Pedido\n",
    "\n",
    "class Pedido:\n",
    "    def __init__(self,nome_cliente,itens_consumidos,taxa_servico):\n",
    "        self.nome_cliente = nome_cliente\n",
    "        self.itens_consumidos = itens_consumidos\n",
    "        self.taxa_servico = taxa_servico"
   ]
  },
  {
   "cell_type": "code",
   "execution_count": 6,
   "id": "4d090ed3",
   "metadata": {},
   "outputs": [],
   "source": [
    "# Funcao nota fiscal\n",
    "\n",
    "def emitir_nota_fiscal(pedido):\n",
    "    print(\"==== Nota Físcal ====\")\n",
    "    print(f\"Cliente: {pedido.nome_cliente}\")\n",
    "    print(\"Itens: \")\n",
    "    for item in pedido.itens_consumidos:\n",
    "        print(f\" - {item.nome_produto}: R${item.preco}\")\n",
    "    print(f\"Taxa de serviço: R${pedido.taxa_servico}\")\n",
    "    total = sum(item.preco for item in pedido.itens_consumidos) + pedido.taxa_servico\n",
    "    print(f\"Total a pagar: R${total}\")"
   ]
  },
  {
   "cell_type": "code",
   "execution_count": 7,
   "id": "098c73a9",
   "metadata": {},
   "outputs": [],
   "source": [
    "# Funcao para calcular o troco\n",
    "\n",
    "def calcular_troco(valor_recebido,total_a_pagar):\n",
    "    if valor_recebido >= total_a_pagar:\n",
    "        troco = valor_recebido - total_a_pagar\n",
    "        return troco\n",
    "    else:\n",
    "        return \"Valor insuficiente\""
   ]
  },
  {
   "cell_type": "code",
   "execution_count": 9,
   "id": "c235a3ad",
   "metadata": {},
   "outputs": [],
   "source": [
    "# Criando Produtos\n",
    "pizza01 = Pizza(\"Pizza Calabresa\", 40.0,\"2023-10-31\",500,\"Calabresa\")\n",
    "lanche01 = Lanche(\"Misto Quentes\",7.50,\"2023-10-31\",85,\"Presuto e Queijo\")\n",
    "salgadinho01 = Salgadinho(\"Coxinha\",5.50,\"2023-10-31\",120,\"frito\",\"massa_trigo\",\"Frango\")"
   ]
  },
  {
   "cell_type": "code",
   "execution_count": 10,
   "id": "61c6a6a4",
   "metadata": {},
   "outputs": [],
   "source": [
    "# Criando o Pedido\n",
    "pedido1 = Pedido(\"Daniel\",[salgadinho01,salgadinho01],2.0)"
   ]
  },
  {
   "cell_type": "code",
   "execution_count": 11,
   "id": "a9867ed1",
   "metadata": {
    "scrolled": true
   },
   "outputs": [
    {
     "name": "stdout",
     "output_type": "stream",
     "text": [
      "==== Nota Físcal ====\n",
      "Cliente: Daniel\n",
      "Itens: \n",
      " - Coxinha: R$5.5\n",
      " - Coxinha: R$5.5\n",
      "Taxa de serviço: R$2.0\n",
      "Total a pagar: R$13.0\n"
     ]
    }
   ],
   "source": [
    "# Emitindo a nota fiscal\n",
    "emitir_nota_fiscal(pedido1)"
   ]
  },
  {
   "cell_type": "code",
   "execution_count": 12,
   "id": "74cd8e1c",
   "metadata": {},
   "outputs": [
    {
     "data": {
      "text/plain": [
       "12"
      ]
     },
     "execution_count": 12,
     "metadata": {},
     "output_type": "execute_result"
    }
   ],
   "source": [
    "# Calculando o troco\n",
    "calcular_troco(25,13)"
   ]
  },
  {
   "cell_type": "code",
   "execution_count": null,
   "id": "a2201ca2",
   "metadata": {},
   "outputs": [],
   "source": []
  }
 ],
 "metadata": {
  "kernelspec": {
   "display_name": "Python 3 (ipykernel)",
   "language": "python",
   "name": "python3"
  },
  "language_info": {
   "codemirror_mode": {
    "name": "ipython",
    "version": 3
   },
   "file_extension": ".py",
   "mimetype": "text/x-python",
   "name": "python",
   "nbconvert_exporter": "python",
   "pygments_lexer": "ipython3",
   "version": "3.9.13"
  }
 },
 "nbformat": 4,
 "nbformat_minor": 5
}
