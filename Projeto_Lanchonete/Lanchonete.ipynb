{
 "cells": [
  {
   "cell_type": "code",
   "execution_count": 10,
   "id": "833b3acc",
   "metadata": {},
   "outputs": [],
   "source": [
    "# Classe Prato\n",
    "\n",
    "class Prato():\n",
    "    \n",
    "    def __init__(self,recheio):\n",
    "        self.recheio = recheio"
   ]
  },
  {
   "cell_type": "code",
   "execution_count": 11,
   "id": "7ff0bb30",
   "metadata": {},
   "outputs": [],
   "source": [
    "# Classe Pizza\n",
    "\n",
    "class Pizza(Prato):\n",
    "    \n",
    "    def __init__(self,molho,borda,recheio):\n",
    "        super().__init__(recheio)\n",
    "        self.molho = molho\n",
    "        self.borda = borda\n",
    "        \n",
    "        "
   ]
  },
  {
   "cell_type": "code",
   "execution_count": 12,
   "id": "2a8c9b1d",
   "metadata": {},
   "outputs": [],
   "source": [
    "# Classe salgadinho\n",
    "\n",
    "class Salgadinho(Prato):\n",
    "    \n",
    "    def __init__(self,massa,recheio):\n",
    "        super().__init__(recheio)\n",
    "        self.massa = massa"
   ]
  },
  {
   "cell_type": "code",
   "execution_count": 16,
   "id": "f0841168",
   "metadata": {},
   "outputs": [],
   "source": [
    "# Classe Lanche\n",
    "\n",
    "class Lanche(Prato):\n",
    "    \n",
    "    def __init__(self,pao,molho,recheio):\n",
    "        super().__init__(recheio)\n",
    "        self.pao = pao\n",
    "        self.molho = molho\n",
    "        \n",
    "        \n",
    "        "
   ]
  },
  {
   "cell_type": "code",
   "execution_count": 18,
   "id": "c293ed46",
   "metadata": {},
   "outputs": [],
   "source": [
    "pizza_mussarela = Pizza(\"mussarela\",\"tomate\",\"simples\")"
   ]
  },
  {
   "cell_type": "code",
   "execution_count": 20,
   "id": "3ae83f1c",
   "metadata": {},
   "outputs": [
    {
     "data": {
      "text/plain": [
       "'simples'"
      ]
     },
     "execution_count": 20,
     "metadata": {},
     "output_type": "execute_result"
    }
   ],
   "source": [
    "pizza_mussarela.recheio"
   ]
  },
  {
   "cell_type": "code",
   "execution_count": null,
   "id": "e90c7b78",
   "metadata": {},
   "outputs": [],
   "source": []
  }
 ],
 "metadata": {
  "kernelspec": {
   "display_name": "Python 3 (ipykernel)",
   "language": "python",
   "name": "python3"
  },
  "language_info": {
   "codemirror_mode": {
    "name": "ipython",
    "version": 3
   },
   "file_extension": ".py",
   "mimetype": "text/x-python",
   "name": "python",
   "nbconvert_exporter": "python",
   "pygments_lexer": "ipython3",
   "version": "3.9.13"
  }
 },
 "nbformat": 4,
 "nbformat_minor": 5
}
