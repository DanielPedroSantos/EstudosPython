{
 "cells": [
  {
   "cell_type": "code",
   "execution_count": null,
   "id": "f7cac156",
   "metadata": {},
   "outputs": [
    {
     "name": "stdout",
     "output_type": "stream",
     "text": [
      " - Calculadora - \n",
      "Escolha uma operação: \n",
      "1 - Soma\n",
      "2 - Subtração\n",
      "3 - Multiplicação\n",
      "4 - Divisão\n",
      "0 - Sair\n"
     ]
    }
   ],
   "source": [
    "# Classe que define uma calculadora com várias operações.\n",
    "class Calculadora():\n",
    "    \n",
    "    # Método para somar dois números.\n",
    "    def soma(self, valorA, valorB):\n",
    "        return valorA + valorB\n",
    "    \n",
    "    # Método para subtrair um número de outro.\n",
    "    def subtracao(self, valorA, valorB):\n",
    "        return valorA - valorB\n",
    "    \n",
    "    # Método para multiplicar dois números.\n",
    "    def multiplicacao(self, valorA, valorB):\n",
    "        return valorA * valorB\n",
    "    \n",
    "    # Método para dividir um número por outro, tratando divisão por zero.\n",
    "    def divisao(self, valorA, valorB):\n",
    "        if valorB == 0:\n",
    "            return \"Erro: Divisão por Zero\"\n",
    "        else:\n",
    "            return valorA / valorB\n",
    "        \n",
    "# Função principal do programa\n",
    "def main():\n",
    "\n",
    "    calc = Calculadora()\n",
    "\n",
    "    print(\" - Calculadora - \")\n",
    "\n",
    "    while True:\n",
    "        print(\"Escolha uma operação: \")\n",
    "        print(\"1 - Soma\")\n",
    "        print(\"2 - Subtração\")\n",
    "        print(\"3 - Multiplicação\")\n",
    "        print(\"4 - Divisão\")\n",
    "        print(\"0 - Sair\")\n",
    "        \n",
    "        opcao = int(input(\"Digite o número da operação desejada: \"))\n",
    "        \n",
    "        if opcao == 0:\n",
    "            print(\"Calculadora Encerrada!\")\n",
    "            break # Sai do loop se a opção for 0 (Sair).\n",
    "        \n",
    "        if opcao in [1, 2, 3, 4]:\n",
    "            a = float(input(\"Digite o primeiro número: \"))\n",
    "            b = float(input(\"Digite o segundo número: \"))\n",
    "            \n",
    "            if opcao == 1:\n",
    "                resultado = calc.soma(a, b)\n",
    "            elif opcao == 2:\n",
    "                resultado = calc.subtracao(a, b)\n",
    "            elif opcao == 3:\n",
    "                resultado = calc.multiplicacao(a, b)\n",
    "            elif opcao == 4:\n",
    "                resultado = calc.divisao(a, b)\n",
    "                \n",
    "            print(f\"Resultado: {resultado}\")\n",
    "            \n",
    "        else:\n",
    "            print(\"Opção inválida. Tente novamente.\")\n",
    "\n",
    "if __name__ == \"__main__\":\n",
    "    main()\n",
    "                 \n",
    "            \n",
    "        \n",
    "    "
   ]
  },
  {
   "cell_type": "code",
   "execution_count": null,
   "id": "712c5f58",
   "metadata": {},
   "outputs": [],
   "source": []
  }
 ],
 "metadata": {
  "kernelspec": {
   "display_name": "Python 3 (ipykernel)",
   "language": "python",
   "name": "python3"
  },
  "language_info": {
   "codemirror_mode": {
    "name": "ipython",
    "version": 3
   },
   "file_extension": ".py",
   "mimetype": "text/x-python",
   "name": "python",
   "nbconvert_exporter": "python",
   "pygments_lexer": "ipython3",
   "version": "3.9.13"
  }
 },
 "nbformat": 4,
 "nbformat_minor": 5
}
